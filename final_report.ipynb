{
 "cells": [
  {
   "attachments": {},
   "cell_type": "markdown",
   "metadata": {},
   "source": [
    "# Cohort Anomalies\n",
    "\n",
    "- Identify anomalies and metrics in student access to the Codeup Curriculum"
   ]
  },
  {
   "attachments": {},
   "cell_type": "markdown",
   "metadata": {},
   "source": [
    "## Goal\n",
    "\n",
    "Identify:\n",
    "* most and least popular lessons\n",
    "* less active students\n",
    "* suspicious activity\n",
    "* frequently referenced topics"
   ]
  },
  {
   "cell_type": "code",
   "execution_count": 1,
   "metadata": {},
   "outputs": [],
   "source": [
    "# local imports\n",
    "import wrangle as w\n",
    "import explore as e\n",
    "\n",
    "#hide warnings\n",
    "import warnings\n",
    "warnings.filterwarnings(\"ignore\")"
   ]
  },
  {
   "attachments": {},
   "cell_type": "markdown",
   "metadata": {},
   "source": [
    "## Acquire\n",
    "\n",
    "* Data acquired from Codeup MySQL DB\n",
    "* Data initially acquired on 14 June 2023\n",
    "* Dataset shape before cleaning:\n",
    "    * 900,222 rows and 8 columns\n",
    "* Each row represents a user from a cohort in a Codeup program accessed a specified path to the curriculum\n",
    "* Each column represents an element of the access, such as date, time, path, etc."
   ]
  },
  {
   "attachments": {},
   "cell_type": "markdown",
   "metadata": {},
   "source": [
    "## Prepare\n",
    "\n",
    "**Prepare Actions**:\n",
    "\n",
    "* Renamed columns to promote readability and merging\n",
    "* Removed columns\n",
    "    - too many null values\n",
    "    - duplicated information\n",
    "* Removed nulls\n",
    "* Checked that column data types were appropriate\n",
    "* Created custom features to help investigate"
   ]
  },
  {
   "cell_type": "code",
   "execution_count": 2,
   "metadata": {},
   "outputs": [],
   "source": [
    "# acquire, clean, and prepare the data\n",
    "df = w.wrangle_logs()"
   ]
  },
  {
   "attachments": {},
   "cell_type": "markdown",
   "metadata": {},
   "source": [
    "#### A brief look at the data"
   ]
  },
  {
   "cell_type": "code",
   "execution_count": 3,
   "metadata": {},
   "outputs": [
    {
     "data": {
      "text/html": [
       "<div>\n",
       "<style scoped>\n",
       "    .dataframe tbody tr th:only-of-type {\n",
       "        vertical-align: middle;\n",
       "    }\n",
       "\n",
       "    .dataframe tbody tr th {\n",
       "        vertical-align: top;\n",
       "    }\n",
       "\n",
       "    .dataframe thead th {\n",
       "        text-align: right;\n",
       "    }\n",
       "</style>\n",
       "<table border=\"1\" class=\"dataframe\">\n",
       "  <thead>\n",
       "    <tr style=\"text-align: right;\">\n",
       "      <th></th>\n",
       "      <th>path</th>\n",
       "      <th>user_id</th>\n",
       "      <th>cohort_id</th>\n",
       "      <th>ip</th>\n",
       "      <th>name</th>\n",
       "      <th>start_date</th>\n",
       "      <th>end_date</th>\n",
       "      <th>program_id</th>\n",
       "    </tr>\n",
       "    <tr>\n",
       "      <th>datetime</th>\n",
       "      <th></th>\n",
       "      <th></th>\n",
       "      <th></th>\n",
       "      <th></th>\n",
       "      <th></th>\n",
       "      <th></th>\n",
       "      <th></th>\n",
       "      <th></th>\n",
       "    </tr>\n",
       "  </thead>\n",
       "  <tbody>\n",
       "    <tr>\n",
       "      <th>2018-01-26 09:55:03</th>\n",
       "      <td>/</td>\n",
       "      <td>1</td>\n",
       "      <td>8.0</td>\n",
       "      <td>97.105.19.61</td>\n",
       "      <td>Hampton</td>\n",
       "      <td>2015-09-22</td>\n",
       "      <td>2016-02-06</td>\n",
       "      <td>1.0</td>\n",
       "    </tr>\n",
       "    <tr>\n",
       "      <th>2018-01-26 09:56:02</th>\n",
       "      <td>java-ii</td>\n",
       "      <td>1</td>\n",
       "      <td>8.0</td>\n",
       "      <td>97.105.19.61</td>\n",
       "      <td>Hampton</td>\n",
       "      <td>2015-09-22</td>\n",
       "      <td>2016-02-06</td>\n",
       "      <td>1.0</td>\n",
       "    </tr>\n",
       "    <tr>\n",
       "      <th>2018-01-26 09:56:05</th>\n",
       "      <td>java-ii/object-oriented-programming</td>\n",
       "      <td>1</td>\n",
       "      <td>8.0</td>\n",
       "      <td>97.105.19.61</td>\n",
       "      <td>Hampton</td>\n",
       "      <td>2015-09-22</td>\n",
       "      <td>2016-02-06</td>\n",
       "      <td>1.0</td>\n",
       "    </tr>\n",
       "    <tr>\n",
       "      <th>2018-01-26 09:56:06</th>\n",
       "      <td>slides/object_oriented_programming</td>\n",
       "      <td>1</td>\n",
       "      <td>8.0</td>\n",
       "      <td>97.105.19.61</td>\n",
       "      <td>Hampton</td>\n",
       "      <td>2015-09-22</td>\n",
       "      <td>2016-02-06</td>\n",
       "      <td>1.0</td>\n",
       "    </tr>\n",
       "    <tr>\n",
       "      <th>2018-01-26 09:56:24</th>\n",
       "      <td>javascript-i/conditionals</td>\n",
       "      <td>2</td>\n",
       "      <td>22.0</td>\n",
       "      <td>97.105.19.61</td>\n",
       "      <td>Teddy</td>\n",
       "      <td>2018-01-08</td>\n",
       "      <td>2018-05-17</td>\n",
       "      <td>2.0</td>\n",
       "    </tr>\n",
       "  </tbody>\n",
       "</table>\n",
       "</div>"
      ],
      "text/plain": [
       "                                                    path  user_id  cohort_id  \\\n",
       "datetime                                                                       \n",
       "2018-01-26 09:55:03                                    /        1        8.0   \n",
       "2018-01-26 09:56:02                              java-ii        1        8.0   \n",
       "2018-01-26 09:56:05  java-ii/object-oriented-programming        1        8.0   \n",
       "2018-01-26 09:56:06   slides/object_oriented_programming        1        8.0   \n",
       "2018-01-26 09:56:24            javascript-i/conditionals        2       22.0   \n",
       "\n",
       "                               ip     name start_date   end_date  program_id  \n",
       "datetime                                                                      \n",
       "2018-01-26 09:55:03  97.105.19.61  Hampton 2015-09-22 2016-02-06         1.0  \n",
       "2018-01-26 09:56:02  97.105.19.61  Hampton 2015-09-22 2016-02-06         1.0  \n",
       "2018-01-26 09:56:05  97.105.19.61  Hampton 2015-09-22 2016-02-06         1.0  \n",
       "2018-01-26 09:56:06  97.105.19.61  Hampton 2015-09-22 2016-02-06         1.0  \n",
       "2018-01-26 09:56:24  97.105.19.61    Teddy 2018-01-08 2018-05-17         2.0  "
      ]
     },
     "execution_count": 3,
     "metadata": {},
     "output_type": "execute_result"
    }
   ],
   "source": [
    "df.head()"
   ]
  },
  {
   "attachments": {},
   "cell_type": "markdown",
   "metadata": {},
   "source": [
    "## Explore\n",
    "\n",
    "1. Which lesson appears to attract the most traffic consistently across cohorts (per program)?\n",
    "2. Is there a cohort that referred to a lesson significantly more than other cohorts seemed to gloss over?\n",
    "3. Are there students who, when active, hardly access the curriculum? If so, what information do you have about these students?\n",
    "4. Is there any suspicious activity, such as users/machines/etc accessing the curriculum who shouldn’t be? Does it appear that any web-scraping is happening? Are there any suspicious IP addresses?\n",
    "5. At some point in 2019, the ability for students and alumni to access both curriculums (web dev to ds, ds to web dev) should have been shut off. Do you see any evidence of that happening? Did it happen before?\n",
    "6. What topics are grads continuing to reference after graduation and into their jobs (for each program)?\n",
    "7. Which lessons are least accessed?"
   ]
  },
  {
   "attachments": {},
   "cell_type": "markdown",
   "metadata": {},
   "source": [
    "### 1) Which lesson appears to attract the most traffic consistently across cohorts (per program)?\n",
    "\n",
    "**Web Dev**: javascript-i/introduction/working-with-data-types-operators-and-variables\n",
    "\n",
    "**Data Science**: classification/overview"
   ]
  },
  {
   "cell_type": "code",
   "execution_count": 4,
   "metadata": {},
   "outputs": [
    {
     "name": "stdout",
     "output_type": "stream",
     "text": [
      "Web Dev\n",
      "lesson: javascript-i/introduction/working-with-data-types-operators-and-variables\n",
      "count: 6809\n",
      "\n",
      "Data Science\n",
      "lesson: classification/overview\n",
      "count: 1785\n"
     ]
    }
   ],
   "source": [
    "# web dev and data science lessons with most traffic\n",
    "e.question1(df)"
   ]
  },
  {
   "attachments": {},
   "cell_type": "markdown",
   "metadata": {},
   "source": [
    "### 2) Is there a cohort that referred to a lesson significantly more than other cohorts seemed to gloss over?\n",
    "\n",
    "Darden accessed the classification/overview lesson almost 2x as many as the other cohorts combined"
   ]
  },
  {
   "cell_type": "code",
   "execution_count": 5,
   "metadata": {},
   "outputs": [
    {
     "data": {
      "text/html": [
       "<div>\n",
       "<style scoped>\n",
       "    .dataframe tbody tr th:only-of-type {\n",
       "        vertical-align: middle;\n",
       "    }\n",
       "\n",
       "    .dataframe tbody tr th {\n",
       "        vertical-align: top;\n",
       "    }\n",
       "\n",
       "    .dataframe thead th {\n",
       "        text-align: right;\n",
       "    }\n",
       "</style>\n",
       "<table border=\"1\" class=\"dataframe\">\n",
       "  <thead>\n",
       "    <tr style=\"text-align: right;\">\n",
       "      <th></th>\n",
       "      <th>name</th>\n",
       "      <th>path</th>\n",
       "      <th>path_count</th>\n",
       "    </tr>\n",
       "  </thead>\n",
       "  <tbody>\n",
       "    <tr>\n",
       "      <th>11445</th>\n",
       "      <td>Darden</td>\n",
       "      <td>classification/overview</td>\n",
       "      <td>1109</td>\n",
       "    </tr>\n",
       "    <tr>\n",
       "      <th>11721</th>\n",
       "      <td>Easley</td>\n",
       "      <td>classification/overview</td>\n",
       "      <td>445</td>\n",
       "    </tr>\n",
       "    <tr>\n",
       "      <th>11067</th>\n",
       "      <td>Curie</td>\n",
       "      <td>classification/overview</td>\n",
       "      <td>136</td>\n",
       "    </tr>\n",
       "    <tr>\n",
       "      <th>11914</th>\n",
       "      <td>Florence</td>\n",
       "      <td>classification/overview</td>\n",
       "      <td>60</td>\n",
       "    </tr>\n",
       "    <tr>\n",
       "      <th>10618</th>\n",
       "      <td>Bayes</td>\n",
       "      <td>classification/overview</td>\n",
       "      <td>35</td>\n",
       "    </tr>\n",
       "    <tr>\n",
       "      <th>7780</th>\n",
       "      <td>Teddy</td>\n",
       "      <td>classification/overview</td>\n",
       "      <td>1</td>\n",
       "    </tr>\n",
       "  </tbody>\n",
       "</table>\n",
       "</div>"
      ],
      "text/plain": [
       "           name                     path  path_count\n",
       "11445    Darden  classification/overview        1109\n",
       "11721    Easley  classification/overview         445\n",
       "11067     Curie  classification/overview         136\n",
       "11914  Florence  classification/overview          60\n",
       "10618     Bayes  classification/overview          35\n",
       "7780      Teddy  classification/overview           1"
      ]
     },
     "execution_count": 5,
     "metadata": {},
     "output_type": "execute_result"
    }
   ],
   "source": [
    "# show cohort access counts for a lesson\n",
    "e.question2(df)"
   ]
  },
  {
   "attachments": {},
   "cell_type": "markdown",
   "metadata": {},
   "source": [
    "### 3) Are there students who, when active, hardly access the curriculum? If so, what information do you have about these students?\n",
    "\n",
    "Yes, there were students who accessed the curriculum less often than there were days in the program they were in. Most were from web dev, in cohorts Oberon, Neptune, and Sequoia. It is possible that some of these students were not able to finish the course and dropped out."
   ]
  },
  {
   "cell_type": "code",
   "execution_count": 6,
   "metadata": {},
   "outputs": [
    {
     "name": "stdout",
     "output_type": "stream",
     "text": [
      "Top Cohorts with # of less active students\n",
      "Oberon     26\n",
      "Neptune    21\n",
      "Sequoia    16\n",
      "Name: name, dtype: int64\n"
     ]
    },
    {
     "data": {
      "image/png": "[encoded data removed]",
      "text/plain": [
       "<Figure size 1008x432 with 1 Axes>"
      ]
     },
     "metadata": {
      "needs_background": "light"
     },
     "output_type": "display_data"
    }
   ],
   "source": [
    "# show less active students with top cohorts highlighted\n",
    "e.question3(df,True)"
   ]
  },
  {
   "attachments": {},
   "cell_type": "markdown",
   "metadata": {},
   "source": [
    "### 4) Is there any suspicious activity, such as users/machines/etc accessing the curriculum who shouldn’t be? Does it appear that any web-scraping is happening? Are there any suspicious IP addresses?\n",
    "\n",
    "In order to check for suspicious server activity we first checked to see which users surpassed a reasonable number of page click-throughs per-day, we then check to see if they are Codeup students or staff.\n"
   ]
  },
  {
   "cell_type": "code",
   "execution_count": 7,
   "metadata": {},
   "outputs": [],
   "source": [
    "# Getting anomalies\n",
    "anomalies = e.anomaly_loop(df, span=30 ,k=3.5)\n",
    "# e.question4(df)"
   ]
  },
  {
   "attachments": {},
   "cell_type": "markdown",
   "metadata": {},
   "source": [
    "#### Top 10 users with the highest UB"
   ]
  },
  {
   "cell_type": "code",
   "execution_count": 8,
   "metadata": {},
   "outputs": [
    {
     "name": "stdout",
     "output_type": "stream",
     "text": [
      "         pages_one_user    midband          ub          lb      pct_b\n",
      "user_id                                                              \n",
      "341                 394  32.825536  381.519192 -315.868120   4.107996\n",
      "88                  364  26.572468  350.460952 -297.316015  12.290801\n",
      "248                 256  22.177381  247.247937 -202.893175   4.084065\n",
      "51                  244  17.050857  232.031640 -197.929927   8.225869\n",
      "138                 210  17.260447  200.060403 -165.539508   4.126706\n",
      "146                 204  17.198472  199.278985 -164.882041  11.156121\n",
      "526                 192  19.601776  187.231096 -148.027544   1.014225\n",
      "480                 192  18.374059  185.046393 -148.298275   2.032441\n",
      "344                 189  14.040286  181.375146 -153.294575   6.123186\n",
      "223                 190  12.469782  178.490178 -153.550615   2.069462\n"
     ]
    }
   ],
   "source": [
    "#top 10 users with the highest ub\n",
    "print(anomalies.groupby('user_id').sum().sort_values(by='ub', ascending=False).head(10))\n",
    "df_top_ub = anomalies.groupby('user_id').sum().sort_values(by='ub', ascending=False).head(10)"
   ]
  },
  {
   "attachments": {},
   "cell_type": "markdown",
   "metadata": {},
   "source": [
    "#### Checking the top 10 user IDs we find that they are diligent Codeup students"
   ]
  },
  {
   "cell_type": "code",
   "execution_count": 9,
   "metadata": {},
   "outputs": [
    {
     "name": "stdout",
     "output_type": "stream",
     "text": [
      "341\n",
      "datetime\n",
      "2019-01-22 15:23:24    29.0\n",
      "Name: cohort_id, dtype: float64\n",
      "88\n",
      "datetime\n",
      "2018-02-05 21:40:45    0.0\n",
      "Name: cohort_id, dtype: float64\n",
      "248\n",
      "datetime\n",
      "2018-09-05 14:28:23    1.0\n",
      "Name: cohort_id, dtype: float64\n",
      "51\n",
      "datetime\n",
      "2018-01-27 07:27:52    13.0\n",
      "Name: cohort_id, dtype: float64\n",
      "138\n",
      "datetime\n",
      "2018-03-09 09:33:19    22.0\n",
      "Name: cohort_id, dtype: float64\n",
      "146\n",
      "datetime\n",
      "2018-03-19 08:35:51    1.0\n",
      "Name: cohort_id, dtype: float64\n",
      "526\n",
      "datetime\n",
      "2019-11-04 16:03:38    52.0\n",
      "Name: cohort_id, dtype: float64\n",
      "480\n",
      "datetime\n",
      "2019-08-20 09:40:44    34.0\n",
      "Name: cohort_id, dtype: float64\n",
      "344\n",
      "datetime\n",
      "2019-01-22 15:27:46    29.0\n",
      "Name: cohort_id, dtype: float64\n",
      "223\n",
      "datetime\n",
      "2018-07-23 15:15:27    25.0\n",
      "Name: cohort_id, dtype: float64\n"
     ]
    }
   ],
   "source": [
    "#loops through df_top_ub user_ids and print out the user_id and the cohort name from the df\n",
    "for user_id in df_top_ub.index:\n",
    "    print(user_id)\n",
    "    print(df[df.user_id == user_id].cohort_id.head(1))\n"
   ]
  },
  {
   "attachments": {},
   "cell_type": "markdown",
   "metadata": {},
   "source": [
    "#### No actual anomalies were found"
   ]
  },
  {
   "attachments": {},
   "cell_type": "markdown",
   "metadata": {},
   "source": [
    "### 5) At some point in 2019, the ability for students and alumni to access both curriculums (web dev to ds, ds to web dev) should have been shut off. Do you see any evidence of that happening? Did it happen before?\n",
    "\n",
    "Before the shut off, there were some students accessing the curriculum of both programs. After the shut off, it seemed that of the few students that were trying to access another program's curriculum, most were web dev students."
   ]
  },
  {
   "cell_type": "code",
   "execution_count": 10,
   "metadata": {},
   "outputs": [
    {
     "data": {
      "text/html": [
       "<div>\n",
       "<style scoped>\n",
       "    .dataframe tbody tr th:only-of-type {\n",
       "        vertical-align: middle;\n",
       "    }\n",
       "\n",
       "    .dataframe tbody tr th {\n",
       "        vertical-align: top;\n",
       "    }\n",
       "\n",
       "    .dataframe thead th {\n",
       "        text-align: right;\n",
       "    }\n",
       "</style>\n",
       "<table border=\"1\" class=\"dataframe\">\n",
       "  <thead>\n",
       "    <tr style=\"text-align: right;\">\n",
       "      <th></th>\n",
       "      <th>datetime</th>\n",
       "      <th>path</th>\n",
       "      <th>program_id</th>\n",
       "    </tr>\n",
       "  </thead>\n",
       "  <tbody>\n",
       "    <tr>\n",
       "      <th>341591</th>\n",
       "      <td>2019-12-22 19:41:44</td>\n",
       "      <td>1-fundamentals/1.2-data-science-pipeline</td>\n",
       "      <td>2.0</td>\n",
       "    </tr>\n",
       "    <tr>\n",
       "      <th>341596</th>\n",
       "      <td>2019-12-22 19:44:37</td>\n",
       "      <td>1-fundamentals/1.2-data-science-pipeline</td>\n",
       "      <td>2.0</td>\n",
       "    </tr>\n",
       "    <tr>\n",
       "      <th>347473</th>\n",
       "      <td>2020-01-13 15:00:39</td>\n",
       "      <td>1-fundamentals/1.1-intro-to-data-science</td>\n",
       "      <td>2.0</td>\n",
       "    </tr>\n",
       "    <tr>\n",
       "      <th>347479</th>\n",
       "      <td>2020-01-13 15:02:29</td>\n",
       "      <td>1-fundamentals/1.1-intro-to-data-science</td>\n",
       "      <td>2.0</td>\n",
       "    </tr>\n",
       "    <tr>\n",
       "      <th>347510</th>\n",
       "      <td>2020-01-13 15:18:55</td>\n",
       "      <td>1-fundamentals/1.1-intro-to-data-science</td>\n",
       "      <td>2.0</td>\n",
       "    </tr>\n",
       "    <tr>\n",
       "      <th>347512</th>\n",
       "      <td>2020-01-13 15:18:58</td>\n",
       "      <td>1-fundamentals/1.1-intro-to-data-science</td>\n",
       "      <td>2.0</td>\n",
       "    </tr>\n",
       "    <tr>\n",
       "      <th>347515</th>\n",
       "      <td>2020-01-13 15:19:08</td>\n",
       "      <td>1-fundamentals/1.2-data-science-pipeline</td>\n",
       "      <td>2.0</td>\n",
       "    </tr>\n",
       "    <tr>\n",
       "      <th>561978</th>\n",
       "      <td>2020-11-10 10:14:09</td>\n",
       "      <td>fundamentals/intro-to-data-science</td>\n",
       "      <td>2.0</td>\n",
       "    </tr>\n",
       "    <tr>\n",
       "      <th>566557</th>\n",
       "      <td>2020-11-17 08:40:22</td>\n",
       "      <td>fundamentals/intro-to-data-science</td>\n",
       "      <td>2.0</td>\n",
       "    </tr>\n",
       "    <tr>\n",
       "      <th>581781</th>\n",
       "      <td>2020-12-08 15:28:58</td>\n",
       "      <td>fundamentals/intro-to-data-science</td>\n",
       "      <td>2.0</td>\n",
       "    </tr>\n",
       "    <tr>\n",
       "      <th>584924</th>\n",
       "      <td>2020-12-11 16:06:49</td>\n",
       "      <td>fundamentals/intro-to-data-science</td>\n",
       "      <td>2.0</td>\n",
       "    </tr>\n",
       "    <tr>\n",
       "      <th>584927</th>\n",
       "      <td>2020-12-11 16:06:59</td>\n",
       "      <td>fundamentals/intro-to-data-science</td>\n",
       "      <td>2.0</td>\n",
       "    </tr>\n",
       "    <tr>\n",
       "      <th>600446</th>\n",
       "      <td>2021-01-11 09:42:53</td>\n",
       "      <td>fundamentals/intro-to-data-science</td>\n",
       "      <td>2.0</td>\n",
       "    </tr>\n",
       "    <tr>\n",
       "      <th>634342</th>\n",
       "      <td>2021-02-23 22:01:51</td>\n",
       "      <td>fundamentals/intro-to-data-science</td>\n",
       "      <td>2.0</td>\n",
       "    </tr>\n",
       "    <tr>\n",
       "      <th>635207</th>\n",
       "      <td>2021-02-25 09:02:46</td>\n",
       "      <td>fundamentals/intro-to-data-science</td>\n",
       "      <td>2.0</td>\n",
       "    </tr>\n",
       "  </tbody>\n",
       "</table>\n",
       "</div>"
      ],
      "text/plain": [
       "                  datetime                                      path  \\\n",
       "341591 2019-12-22 19:41:44  1-fundamentals/1.2-data-science-pipeline   \n",
       "341596 2019-12-22 19:44:37  1-fundamentals/1.2-data-science-pipeline   \n",
       "347473 2020-01-13 15:00:39  1-fundamentals/1.1-intro-to-data-science   \n",
       "347479 2020-01-13 15:02:29  1-fundamentals/1.1-intro-to-data-science   \n",
       "347510 2020-01-13 15:18:55  1-fundamentals/1.1-intro-to-data-science   \n",
       "347512 2020-01-13 15:18:58  1-fundamentals/1.1-intro-to-data-science   \n",
       "347515 2020-01-13 15:19:08  1-fundamentals/1.2-data-science-pipeline   \n",
       "561978 2020-11-10 10:14:09        fundamentals/intro-to-data-science   \n",
       "566557 2020-11-17 08:40:22        fundamentals/intro-to-data-science   \n",
       "581781 2020-12-08 15:28:58        fundamentals/intro-to-data-science   \n",
       "584924 2020-12-11 16:06:49        fundamentals/intro-to-data-science   \n",
       "584927 2020-12-11 16:06:59        fundamentals/intro-to-data-science   \n",
       "600446 2021-01-11 09:42:53        fundamentals/intro-to-data-science   \n",
       "634342 2021-02-23 22:01:51        fundamentals/intro-to-data-science   \n",
       "635207 2021-02-25 09:02:46        fundamentals/intro-to-data-science   \n",
       "\n",
       "        program_id  \n",
       "341591         2.0  \n",
       "341596         2.0  \n",
       "347473         2.0  \n",
       "347479         2.0  \n",
       "347510         2.0  \n",
       "347512         2.0  \n",
       "347515         2.0  \n",
       "561978         2.0  \n",
       "566557         2.0  \n",
       "581781         2.0  \n",
       "584924         2.0  \n",
       "584927         2.0  \n",
       "600446         2.0  \n",
       "634342         2.0  \n",
       "635207         2.0  "
      ]
     },
     "execution_count": 10,
     "metadata": {},
     "output_type": "execute_result"
    }
   ],
   "source": [
    "# data science paths accessed by web dev students\n",
    "e.question5(df,'wd')"
   ]
  },
  {
   "cell_type": "code",
   "execution_count": 11,
   "metadata": {},
   "outputs": [
    {
     "data": {
      "text/html": [
       "<div>\n",
       "<style scoped>\n",
       "    .dataframe tbody tr th:only-of-type {\n",
       "        vertical-align: middle;\n",
       "    }\n",
       "\n",
       "    .dataframe tbody tr th {\n",
       "        vertical-align: top;\n",
       "    }\n",
       "\n",
       "    .dataframe thead th {\n",
       "        text-align: right;\n",
       "    }\n",
       "</style>\n",
       "<table border=\"1\" class=\"dataframe\">\n",
       "  <thead>\n",
       "    <tr style=\"text-align: right;\">\n",
       "      <th></th>\n",
       "      <th>datetime</th>\n",
       "      <th>path</th>\n",
       "      <th>program_id</th>\n",
       "    </tr>\n",
       "  </thead>\n",
       "  <tbody>\n",
       "    <tr>\n",
       "      <th>330331</th>\n",
       "      <td>2019-12-03 11:49:29</td>\n",
       "      <td>javascript-i</td>\n",
       "      <td>3.0</td>\n",
       "    </tr>\n",
       "    <tr>\n",
       "      <th>330334</th>\n",
       "      <td>2019-12-03 11:49:33</td>\n",
       "      <td>javascript-ii</td>\n",
       "      <td>3.0</td>\n",
       "    </tr>\n",
       "    <tr>\n",
       "      <th>330335</th>\n",
       "      <td>2019-12-03 11:49:35</td>\n",
       "      <td>java-ii</td>\n",
       "      <td>3.0</td>\n",
       "    </tr>\n",
       "    <tr>\n",
       "      <th>336295</th>\n",
       "      <td>2019-12-14 16:46:24</td>\n",
       "      <td>javascript-i</td>\n",
       "      <td>3.0</td>\n",
       "    </tr>\n",
       "    <tr>\n",
       "      <th>440517</th>\n",
       "      <td>2020-05-19 16:03:32</td>\n",
       "      <td>java-ii/object-oriented-programming</td>\n",
       "      <td>3.0</td>\n",
       "    </tr>\n",
       "  </tbody>\n",
       "</table>\n",
       "</div>"
      ],
      "text/plain": [
       "                  datetime                                 path  program_id\n",
       "330331 2019-12-03 11:49:29                         javascript-i         3.0\n",
       "330334 2019-12-03 11:49:33                        javascript-ii         3.0\n",
       "330335 2019-12-03 11:49:35                              java-ii         3.0\n",
       "336295 2019-12-14 16:46:24                         javascript-i         3.0\n",
       "440517 2020-05-19 16:03:32  java-ii/object-oriented-programming         3.0"
      ]
     },
     "execution_count": 11,
     "metadata": {},
     "output_type": "execute_result"
    }
   ],
   "source": [
    "# java/javascript paths accessed by data science students\n",
    "e.question5(df,'ds')"
   ]
  },
  {
   "attachments": {},
   "cell_type": "markdown",
   "metadata": {},
   "source": [
    "### 6) What topics are grads continuing to reference after graduation and into their jobs (for each program)?\n",
    "\n",
    "In order to develop an accurate portrayal of topic headings we first stripped common heading words such as “content”, “appendix”, leading numbers, and then removed “/”, “-”, and other characters. We then aggregated the data frame’s cleaned up paths and program ids and returned the top 10 most visited topics by program.\n",
    "\n"
   ]
  },
  {
   "cell_type": "code",
   "execution_count": 12,
   "metadata": {},
   "outputs": [],
   "source": [
    "# function to convert df into df with after graduation data\n",
    "df_after_grad = e.after_grad(df)\n"
   ]
  },
  {
   "cell_type": "code",
   "execution_count": 13,
   "metadata": {},
   "outputs": [],
   "source": [
    "#function to clean up the df_after_grad df\n",
    "df_after_grad = e.clean_after_grad(df_after_grad)\n",
    "# e.question6(df)"
   ]
  },
  {
   "attachments": {},
   "cell_type": "markdown",
   "metadata": {},
   "source": [
    "#### Top 10 post graduation topics for Program 1"
   ]
  },
  {
   "cell_type": "code",
   "execution_count": 14,
   "metadata": {},
   "outputs": [
    {
     "name": "stdout",
     "output_type": "stream",
     "text": [
      "path           program_id\n",
      "javascript-i   1.0           3708\n",
      "html-css       1.0           3412\n",
      "mysql          1.0           2371\n",
      "spring         1.0           2324\n",
      "java-iii       1.0           1953\n",
      "jquery         1.0           1742\n",
      "java-ii        1.0           1572\n",
      "java-i         1.0           1456\n",
      "javascript-ii  1.0           1405\n",
      "laravel        1.0           1188\n",
      "dtype: int64\n"
     ]
    },
    {
     "data": {
      "image/png": "[encoded data removed]",
      "text/plain": [
       "<Figure size 1008x720 with 1 Axes>"
      ]
     },
     "metadata": {
      "needs_background": "light"
     },
     "output_type": "display_data"
    }
   ],
   "source": [
    "# program 1 top 10 paths accessed after graduation and plots\n",
    "df_after_grad[df_after_grad['program_id'] == 1.0].value_counts().head(10).sort_values().plot.barh(title='Top 10 Topics Accessed After Graduation For Program 1',xlabel='Path',ylabel='Count',figsize=(14,10))\n",
    "print(df_after_grad[df_after_grad['program_id'] == 1.0].value_counts().head(10))"
   ]
  },
  {
   "attachments": {},
   "cell_type": "markdown",
   "metadata": {},
   "source": [
    "#### Top 10 post graduation topics for Program 2"
   ]
  },
  {
   "cell_type": "code",
   "execution_count": 15,
   "metadata": {},
   "outputs": [
    {
     "name": "stdout",
     "output_type": "stream",
     "text": [
      "path           program_id\n",
      "spring         2.0           9640\n",
      "javascript-i   2.0           9141\n",
      "html-css       2.0           6860\n",
      "mysql          2.0           6071\n",
      "java-ii        2.0           5160\n",
      "java-i         2.0           5025\n",
      "java-iii       2.0           4763\n",
      "jquery         2.0           4118\n",
      "javascript-ii  2.0           4090\n",
      "php_i          2.0            664\n",
      "dtype: int64\n"
     ]
    },
    {
     "data": {
      "image/png": "[encoded data removed]",
      "text/plain": [
       "<Figure size 1008x720 with 1 Axes>"
      ]
     },
     "metadata": {
      "needs_background": "light"
     },
     "output_type": "display_data"
    }
   ],
   "source": [
    "#list and plots top 10 topics for program_id 2.0\n",
    "df_after_grad[df_after_grad['program_id'] == 2.0].value_counts().head(10).sort_values().plot.barh(title='Top 10 Topics Accessed After Graduation For Program 2',xlabel='Path',ylabel='Count',figsize=(14,10))\n",
    "print(df_after_grad[df_after_grad['program_id'] == 2.0].value_counts().head(10))"
   ]
  },
  {
   "attachments": {},
   "cell_type": "markdown",
   "metadata": {},
   "source": [
    "#### Top 10 post graduation topics for Group 3"
   ]
  },
  {
   "cell_type": "code",
   "execution_count": 16,
   "metadata": {},
   "outputs": [
    {
     "name": "stdout",
     "output_type": "stream",
     "text": [
      "path               program_id\n",
      "sql                3.0           1554\n",
      "fundamentals       3.0           1520\n",
      "classification     3.0           1316\n",
      "python             3.0            845\n",
      "regression         3.0            710\n",
      "anomaly-detection  3.0            628\n",
      "stats              3.0            527\n",
      "timeseries         3.0            497\n",
      "nlp                3.0            487\n",
      "clustering         3.0            340\n",
      "dtype: int64\n"
     ]
    },
    {
     "data": {
      "image/png": "[encoded data removed]",
      "text/plain": [
       "<Figure size 1008x720 with 1 Axes>"
      ]
     },
     "metadata": {
      "needs_background": "light"
     },
     "output_type": "display_data"
    }
   ],
   "source": [
    "#lists and plots top 10 topics for program_id 3.0\n",
    "df_after_grad[df_after_grad['program_id'] == 3.0].value_counts().head(10).sort_values().plot.barh(title='Top 10 Topics Accessed After Graduation For Data Science',xlabel='Path',ylabel='Count',figsize=(14,10))\n",
    "print(df_after_grad[df_after_grad['program_id'] == 3.0].value_counts().head(10))"
   ]
  },
  {
   "attachments": {},
   "cell_type": "markdown",
   "metadata": {},
   "source": [
    "### 7) Which lessons are least accessed?\n",
    "\n",
    "We used the post graduation dataframe created above to analyze the lessons accessed the fewest times. To do this, we removed lessons only accessed once in order to avoid counting possible miss-clicks. We then sorted by group.  "
   ]
  },
  {
   "attachments": {},
   "cell_type": "markdown",
   "metadata": {},
   "source": [
    "#### Programs 1 and 2 least accessed lessons after graduation:"
   ]
  },
  {
   "cell_type": "code",
   "execution_count": 17,
   "metadata": {},
   "outputs": [
    {
     "data": {
      "text/plain": [
       "path                              program_id\n",
       "primitive-types.html              1.0           2.0\n",
       "quiz                              2.0           2.0\n",
       "register.html                     1.0           2.0\n",
       "_intro                            2.0           2.0\n",
       "anomaly-detection                 1.0           2.0\n",
       "._Intro_Clustering                1.0           2.0\n",
       "Intro_to_Regression_Module        1.0           2.0\n",
       ".._ConnectingToSpark              2.0           2.0\n",
       ".._Correlation                    2.0           2.0\n",
       ".._DecisionTree                   2.0           2.0\n",
       ".._KNN                            2.0           2.0\n",
       "._Anomaly_Detection               2.0           2.0\n",
       ".._Descriptive_Stats              1.0           2.0\n",
       "._DistributedML.md                2.0           2.0\n",
       "..-where                          2.0           2.0\n",
       ".._introduction_to_seaborn        1.0           2.0\n",
       "..-subqueries                     2.0           2.0\n",
       "..-relationships-overview         2.0           2.0\n",
       "..-order-by                       2.0           2.0\n",
       ".._OrdinaryLeastSquares           2.0           2.0\n",
       "..-indexes                        2.0           2.0\n",
       "Module__Classification            1.0           2.0\n",
       "._Exercises                       2.0           2.0\n",
       ".-functions                       2.0           2.0\n",
       ".-temporary-tables                1.0           2.0\n",
       ".._introduction_to_numpy          2.0           2.0\n",
       "._Recommenders                    2.0           2.0\n",
       "_Classification_Algorithms        1.0           2.0\n",
       "..-clauses-overview               2.0           2.0\n",
       ".._Charts_PivotTables_Sparklines  2.0           2.0\n",
       "dtype: float64"
      ]
     },
     "execution_count": 17,
     "metadata": {},
     "output_type": "execute_result"
    }
   ],
   "source": [
    "#program_id 1 and 2 bottom 30 paths accessed with more than 1 count \n",
    "df_after_grad[df_after_grad['program_id'] != 3.0].value_counts().where(lambda x: x > 1).dropna().tail(30)"
   ]
  },
  {
   "attachments": {},
   "cell_type": "markdown",
   "metadata": {},
   "source": [
    "Program 1 and 2 (web dev) accessed data science lessons but at lesser rate versus web dev lessons."
   ]
  },
  {
   "attachments": {},
   "cell_type": "markdown",
   "metadata": {},
   "source": [
    "#### Program 3's least accessed lessons after graduation:"
   ]
  },
  {
   "cell_type": "code",
   "execution_count": 18,
   "metadata": {},
   "outputs": [
    {
     "data": {
      "text/plain": [
       "path                                            program_id\n",
       "sql                                             3.0           1554.0\n",
       "fundamentals                                    3.0           1520.0\n",
       "classification                                  3.0           1316.0\n",
       "python                                          3.0            845.0\n",
       "regression                                      3.0            710.0\n",
       "anomaly-detection                               3.0            628.0\n",
       "stats                                           3.0            527.0\n",
       "timeseries                                      3.0            497.0\n",
       "nlp                                             3.0            487.0\n",
       "clustering                                      3.0            340.0\n",
       "distributed-ml                                  3.0            231.0\n",
       "storytelling                                    3.0            190.0\n",
       "advanced-topics                                 3.0            185.0\n",
       "capstones                                       3.0              8.0\n",
       "mysql                                           3.0              5.0\n",
       "cli                                             3.0              4.0\n",
       "Hospital-Distance-Clusters                      3.0              4.0\n",
       "scale_features_or_not.svg                       3.0              3.0\n",
       "classical_programming_vs_machine_learning.jpeg  3.0              2.0\n",
       "Selecting_a_hypothesis_test.svg                 3.0              2.0\n",
       "overview                                        3.0              2.0\n",
       "dtype: float64"
      ]
     },
     "execution_count": 18,
     "metadata": {},
     "output_type": "execute_result"
    }
   ],
   "source": [
    "#program_id 3.0 bottom 10 paths accessed with more than 1 count but less than 5\n",
    "df_after_grad[df_after_grad['program_id'] == 3.0].value_counts().where(lambda x: x > 1).dropna().tail(30)"
   ]
  },
  {
   "attachments": {},
   "cell_type": "markdown",
   "metadata": {},
   "source": [
    "Program 3 (Data Science) accessed data science lessons (and for the most part only data science) after graduation at higher rate even looking at the bottom 30."
   ]
  },
  {
   "attachments": {},
   "cell_type": "markdown",
   "metadata": {},
   "source": [
    "## Exploration Summary and Conclusion\n",
    "\n",
    "- All time most referenced lesson per Program:\n",
    "    - **Web Dev**: Javascript-I – Intro – Working with Data Types, Operators, and Variables\n",
    "    - **Data Science**: Classification – Overview (referenced mostly by Darden Cohort)\n",
    "- Top 3 referenced topics per Program after graduation:\n",
    "    - **Web Dev**: Spring, Javascript-I, and HTML-CSS\n",
    "    - **Data Science**: SQL, Fundamentals, and Classification\n",
    "- There were some students who accessed the curriculum less often than there were days in the program they were in. Most were from web dev, in cohorts Oberon, Neptune, and Sequoia. It is possible that some of these students were not able to finish the course and dropped out.\n",
    "- Before the cross-curriculum access was shut off, there were some students accessing the curriculum of both programs. After the shut off, it seemed that of the few students that were trying to access another program's curriculum, most were web dev students.\n",
    "- After graduation the web dev alumni’s least accessed lessons were those belonging to the data science curriculum, such as, Descriptive Stats, Intro to Seaborn, and Module: Classification. The data science alumni, on the other hand,  primarily accessed lessons from their curriculum, such as, Classical Programming vs Machine Learning, Selecting a Hypothesis Test, and Advanced Topics.\n",
    "- No actual security anomalies were detected. The outliers found in our analysis turned out to be diligent students or hard working staff.  \n",
    "\n"
   ]
  },
  {
   "attachments": {},
   "cell_type": "markdown",
   "metadata": {},
   "source": [
    "\n",
    "\n",
    "### Recommendations and Next Steps\n",
    "* We should send out an alumni survey to ascertain if the frequently searched for topics on the Codeup site were thoroughly covered during their course and take appropriate action. Additionally, any overlap in currently covered topics and searched for topics should be specifically emphasized as soon as possible. "
   ]
  }
 ],
 "metadata": {
  "kernelspec": {
   "display_name": "base",
   "language": "python",
   "name": "python3"
  },
  "language_info": {
   "codemirror_mode": {
    "name": "ipython",
    "version": 3
   },
   "file_extension": ".py",
   "mimetype": "text/x-python",
   "name": "python",
   "nbconvert_exporter": "python",
   "pygments_lexer": "ipython3",
   "version": "3.8.8"
  },
  "orig_nbformat": 4
 },
 "nbformat": 4,
 "nbformat_minor": 2
}
